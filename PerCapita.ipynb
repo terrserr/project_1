{
 "cells": [
  {
   "cell_type": "code",
   "execution_count": 38,
   "metadata": {},
   "outputs": [],
   "source": [
    "import pandas as pd\n",
    "import csv\n",
    "import matplotlib.pyplot as plt"
   ]
  },
  {
   "cell_type": "code",
   "execution_count": 17,
   "metadata": {},
   "outputs": [
    {
     "data": {
      "text/html": [
       "<div>\n",
       "<style scoped>\n",
       "    .dataframe tbody tr th:only-of-type {\n",
       "        vertical-align: middle;\n",
       "    }\n",
       "\n",
       "    .dataframe tbody tr th {\n",
       "        vertical-align: top;\n",
       "    }\n",
       "\n",
       "    .dataframe thead th {\n",
       "        text-align: right;\n",
       "    }\n",
       "</style>\n",
       "<table border=\"1\" class=\"dataframe\">\n",
       "  <thead>\n",
       "    <tr style=\"text-align: right;\">\n",
       "      <th></th>\n",
       "      <th>city</th>\n",
       "      <th>country</th>\n",
       "      <th>population</th>\n",
       "      <th># of Bars</th>\n",
       "      <th># of parks</th>\n",
       "      <th># of galleries</th>\n",
       "      <th># of gyms</th>\n",
       "      <th># of bookstores</th>\n",
       "      <th># of fast food restaurants</th>\n",
       "    </tr>\n",
       "  </thead>\n",
       "  <tbody>\n",
       "    <tr>\n",
       "      <th>0</th>\n",
       "      <td>Fairbanks</td>\n",
       "      <td>US</td>\n",
       "      <td>34657</td>\n",
       "      <td>34</td>\n",
       "      <td>4</td>\n",
       "      <td>7</td>\n",
       "      <td>11</td>\n",
       "      <td>4</td>\n",
       "      <td>33</td>\n",
       "    </tr>\n",
       "    <tr>\n",
       "      <th>1</th>\n",
       "      <td>Detroit</td>\n",
       "      <td>US</td>\n",
       "      <td>1747582</td>\n",
       "      <td>1200</td>\n",
       "      <td>219</td>\n",
       "      <td>139</td>\n",
       "      <td>684</td>\n",
       "      <td>154</td>\n",
       "      <td>1900</td>\n",
       "    </tr>\n",
       "    <tr>\n",
       "      <th>2</th>\n",
       "      <td>New Orleans</td>\n",
       "      <td>US</td>\n",
       "      <td>1272995</td>\n",
       "      <td>841</td>\n",
       "      <td>134</td>\n",
       "      <td>248</td>\n",
       "      <td>290</td>\n",
       "      <td>82</td>\n",
       "      <td>660</td>\n",
       "    </tr>\n",
       "    <tr>\n",
       "      <th>3</th>\n",
       "      <td>Memphis</td>\n",
       "      <td>US</td>\n",
       "      <td>1346931</td>\n",
       "      <td>283</td>\n",
       "      <td>76</td>\n",
       "      <td>42</td>\n",
       "      <td>172</td>\n",
       "      <td>35</td>\n",
       "      <td>704</td>\n",
       "    </tr>\n",
       "    <tr>\n",
       "      <th>4</th>\n",
       "      <td>Mobile</td>\n",
       "      <td>US</td>\n",
       "      <td>414817</td>\n",
       "      <td>127</td>\n",
       "      <td>28</td>\n",
       "      <td>20</td>\n",
       "      <td>63</td>\n",
       "      <td>10</td>\n",
       "      <td>266</td>\n",
       "    </tr>\n",
       "  </tbody>\n",
       "</table>\n",
       "</div>"
      ],
      "text/plain": [
       "          city country  population  # of Bars  # of parks  # of galleries  \\\n",
       "0    Fairbanks      US       34657         34           4               7   \n",
       "1      Detroit      US     1747582       1200         219             139   \n",
       "2  New Orleans      US     1272995        841         134             248   \n",
       "3      Memphis      US     1346931        283          76              42   \n",
       "4       Mobile      US      414817        127          28              20   \n",
       "\n",
       "   # of gyms  # of bookstores  # of fast food restaurants  \n",
       "0         11                4                          33  \n",
       "1        684              154                        1900  \n",
       "2        290               82                         660  \n",
       "3        172               35                         704  \n",
       "4         63               10                         266  "
      ]
     },
     "execution_count": 17,
     "metadata": {},
     "output_type": "execute_result"
    }
   ],
   "source": [
    "results_csv_path = \"C:/Users/austin.edrington/project_1/cleaned_yelp_results.csv\"\n",
    "results_df = pd.read_csv(results_csv_path)\n",
    "results_df.head()"
   ]
  },
  {
   "cell_type": "code",
   "execution_count": 23,
   "metadata": {},
   "outputs": [],
   "source": [
    "bpc = (results_df[\"# of Bars\"]/results_df[\"population\"])*10000\n",
    "ppc = (results_df[\"# of parks\"]/results_df[\"population\"])*10000\n",
    "gpc = (results_df[\"# of galleries\"]/results_df[\"population\"])*10000\n",
    "gympc = (results_df[\"# of gyms\"]/results_df[\"population\"])*10000\n",
    "bookpc = (results_df[\"# of bookstores\"]/results_df[\"population\"])*10000\n",
    "ffpc = (results_df[\"# of fast food restaurants\"]/results_df[\"population\"])*10000\n"
   ]
  },
  {
   "cell_type": "code",
   "execution_count": 34,
   "metadata": {},
   "outputs": [],
   "source": [
    "percap = {\"City\":results_df[\"city\"],\n",
    "            \"Country\":results_df[\"country\"],\n",
    "            \"Population\":results_df[\"population\"],\n",
    "            \"Bars\":bpc,\n",
    "            \"Parks\":ppc,\n",
    "            \"Galleries\":gpc,\n",
    "             \"Gyms\":gympc,\n",
    "             \"Bookstores\":bookpc,\n",
    "             \"Fast Food\":ffpc}\n",
    "percap_df = pd.DataFrame(percap)"
   ]
  },
  {
   "cell_type": "code",
   "execution_count": 37,
   "metadata": {},
   "outputs": [
    {
     "data": {
      "text/html": [
       "<div>\n",
       "<style scoped>\n",
       "    .dataframe tbody tr th:only-of-type {\n",
       "        vertical-align: middle;\n",
       "    }\n",
       "\n",
       "    .dataframe tbody tr th {\n",
       "        vertical-align: top;\n",
       "    }\n",
       "\n",
       "    .dataframe thead th {\n",
       "        text-align: right;\n",
       "    }\n",
       "</style>\n",
       "<table border=\"1\" class=\"dataframe\">\n",
       "  <thead>\n",
       "    <tr style=\"text-align: right;\">\n",
       "      <th></th>\n",
       "      <th>City</th>\n",
       "      <th>Country</th>\n",
       "      <th>Population</th>\n",
       "      <th>Bars</th>\n",
       "      <th>Parks</th>\n",
       "      <th>Galleries</th>\n",
       "      <th>Gyms</th>\n",
       "      <th>Bookstores</th>\n",
       "      <th>Fast Food</th>\n",
       "    </tr>\n",
       "  </thead>\n",
       "  <tbody>\n",
       "    <tr>\n",
       "      <th>0</th>\n",
       "      <td>Fairbanks</td>\n",
       "      <td>US</td>\n",
       "      <td>34657</td>\n",
       "      <td>9.810428</td>\n",
       "      <td>1.154168</td>\n",
       "      <td>2.019794</td>\n",
       "      <td>3.173962</td>\n",
       "      <td>1.154168</td>\n",
       "      <td>9.521886</td>\n",
       "    </tr>\n",
       "    <tr>\n",
       "      <th>1</th>\n",
       "      <td>Detroit</td>\n",
       "      <td>US</td>\n",
       "      <td>1747582</td>\n",
       "      <td>6.866631</td>\n",
       "      <td>1.253160</td>\n",
       "      <td>0.795385</td>\n",
       "      <td>3.913979</td>\n",
       "      <td>0.881218</td>\n",
       "      <td>10.872165</td>\n",
       "    </tr>\n",
       "    <tr>\n",
       "      <th>2</th>\n",
       "      <td>New Orleans</td>\n",
       "      <td>US</td>\n",
       "      <td>1272995</td>\n",
       "      <td>6.606467</td>\n",
       "      <td>1.052636</td>\n",
       "      <td>1.948162</td>\n",
       "      <td>2.278092</td>\n",
       "      <td>0.644150</td>\n",
       "      <td>5.184624</td>\n",
       "    </tr>\n",
       "    <tr>\n",
       "      <th>3</th>\n",
       "      <td>Memphis</td>\n",
       "      <td>US</td>\n",
       "      <td>1346931</td>\n",
       "      <td>2.101073</td>\n",
       "      <td>0.564246</td>\n",
       "      <td>0.311820</td>\n",
       "      <td>1.276977</td>\n",
       "      <td>0.259850</td>\n",
       "      <td>5.226697</td>\n",
       "    </tr>\n",
       "    <tr>\n",
       "      <th>4</th>\n",
       "      <td>Mobile</td>\n",
       "      <td>US</td>\n",
       "      <td>414817</td>\n",
       "      <td>3.061591</td>\n",
       "      <td>0.674996</td>\n",
       "      <td>0.482140</td>\n",
       "      <td>1.518742</td>\n",
       "      <td>0.241070</td>\n",
       "      <td>6.412466</td>\n",
       "    </tr>\n",
       "  </tbody>\n",
       "</table>\n",
       "</div>"
      ],
      "text/plain": [
       "          City Country  Population      Bars     Parks  Galleries      Gyms  \\\n",
       "0    Fairbanks      US       34657  9.810428  1.154168   2.019794  3.173962   \n",
       "1      Detroit      US     1747582  6.866631  1.253160   0.795385  3.913979   \n",
       "2  New Orleans      US     1272995  6.606467  1.052636   1.948162  2.278092   \n",
       "3      Memphis      US     1346931  2.101073  0.564246   0.311820  1.276977   \n",
       "4       Mobile      US      414817  3.061591  0.674996   0.482140  1.518742   \n",
       "\n",
       "   Bookstores  Fast Food  \n",
       "0    1.154168   9.521886  \n",
       "1    0.881218  10.872165  \n",
       "2    0.644150   5.184624  \n",
       "3    0.259850   5.226697  \n",
       "4    0.241070   6.412466  "
      ]
     },
     "execution_count": 37,
     "metadata": {},
     "output_type": "execute_result"
    }
   ],
   "source": [
    "percap_df.head()"
   ]
  },
  {
   "cell_type": "code",
   "execution_count": 36,
   "metadata": {},
   "outputs": [
    {
     "data": {
      "text/plain": [
       "City          Yuba City\n",
       "Country              US\n",
       "Population     20177990\n",
       "Bars            195.896\n",
       "Parks           127.488\n",
       "Galleries        50.995\n",
       "Gyms             305.97\n",
       "Bookstores      43.2183\n",
       "Fast Food       280.473\n",
       "dtype: object"
      ]
     },
     "execution_count": 36,
     "metadata": {},
     "output_type": "execute_result"
    }
   ],
   "source": [
    "percap_df.max()"
   ]
  },
  {
   "cell_type": "code",
   "execution_count": 58,
   "metadata": {},
   "outputs": [
    {
     "data": {
      "text/plain": [
       "<matplotlib.collections.PathCollection at 0x1ee025d02b0>"
      ]
     },
     "execution_count": 58,
     "metadata": {},
     "output_type": "execute_result"
    },
    {
     "data": {
      "image/png": "[encoded data removed]",
      "text/plain": [
       "<Figure size 432x288 with 1 Axes>"
      ]
     },
     "metadata": {
      "needs_background": "light"
     },
     "output_type": "display_data"
    }
   ],
   "source": [
    "x_limit = 50\n",
    "y_limit = 100\n",
    "x_axis = percap_df[\"Bars\"]\n",
    "y_axis = percap_df[\"Fast Food\"]\n",
    "plt.scatter(x_axis, y_axis, marker=\"*\", facecolors=\"red\", edgecolors=\"black\",\n",
    "            s=100, alpha=0.75)"
   ]
  },
  {
   "cell_type": "code",
   "execution_count": null,
   "metadata": {},
   "outputs": [],
   "source": []
  }
 ],
 "metadata": {
  "kernelspec": {
   "display_name": "Python 3",
   "language": "python",
   "name": "python3"
  },
  "language_info": {
   "codemirror_mode": {
    "name": "ipython",
    "version": 3
   },
   "file_extension": ".py",
   "mimetype": "text/x-python",
   "name": "python",
   "nbconvert_exporter": "python",
   "pygments_lexer": "ipython3",
   "version": "3.7.0"
  }
 },
 "nbformat": 4,
 "nbformat_minor": 2
}
