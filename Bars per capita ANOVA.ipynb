{
 "cells": [
  {
   "cell_type": "markdown",
   "metadata": {},
   "source": [
    "Hypothesis: If the relative size of a city impacts the number of bars per capita, then larger cities will have more bars per capita than smaller cities.\n",
    "Null: If the relative size of a city has no impact on the number of bars per capita, then the number of bars per capita will remain constant regardless of city size."
   ]
  },
  {
   "cell_type": "code",
   "execution_count": 1,
   "metadata": {},
   "outputs": [],
   "source": [
    "#import dependencies\n",
    "import numpy as np\n",
    "import pandas as pd\n",
    "from pandas import Series, DataFrame\n",
    "import matplotlib.pyplot as plt\n",
    "\n",
    "import scipy.stats as stats\n",
    "%matplotlib inline"
   ]
  },
  {
   "cell_type": "code",
   "execution_count": 2,
   "metadata": {},
   "outputs": [
    {
     "data": {
      "text/html": [
       "<div>\n",
       "<style scoped>\n",
       "    .dataframe tbody tr th:only-of-type {\n",
       "        vertical-align: middle;\n",
       "    }\n",
       "\n",
       "    .dataframe tbody tr th {\n",
       "        vertical-align: top;\n",
       "    }\n",
       "\n",
       "    .dataframe thead th {\n",
       "        text-align: right;\n",
       "    }\n",
       "</style>\n",
       "<table border=\"1\" class=\"dataframe\">\n",
       "  <thead>\n",
       "    <tr style=\"text-align: right;\">\n",
       "      <th></th>\n",
       "      <th>Unnamed: 0</th>\n",
       "      <th>City</th>\n",
       "      <th>Country</th>\n",
       "      <th>Population</th>\n",
       "      <th>Bars</th>\n",
       "      <th>Parks</th>\n",
       "      <th>Galleries</th>\n",
       "      <th>Gyms</th>\n",
       "      <th>Bookstores</th>\n",
       "      <th>Fast Food</th>\n",
       "    </tr>\n",
       "  </thead>\n",
       "  <tbody>\n",
       "    <tr>\n",
       "      <th>0</th>\n",
       "      <td>0</td>\n",
       "      <td>Fairbanks</td>\n",
       "      <td>US</td>\n",
       "      <td>34657</td>\n",
       "      <td>9.810428</td>\n",
       "      <td>1.154168</td>\n",
       "      <td>2.019794</td>\n",
       "      <td>3.173962</td>\n",
       "      <td>1.154168</td>\n",
       "      <td>9.521886</td>\n",
       "    </tr>\n",
       "    <tr>\n",
       "      <th>1</th>\n",
       "      <td>1</td>\n",
       "      <td>Detroit</td>\n",
       "      <td>US</td>\n",
       "      <td>1747582</td>\n",
       "      <td>6.866631</td>\n",
       "      <td>1.253160</td>\n",
       "      <td>0.795385</td>\n",
       "      <td>3.913979</td>\n",
       "      <td>0.881218</td>\n",
       "      <td>10.872165</td>\n",
       "    </tr>\n",
       "    <tr>\n",
       "      <th>2</th>\n",
       "      <td>2</td>\n",
       "      <td>New Orleans</td>\n",
       "      <td>US</td>\n",
       "      <td>1272995</td>\n",
       "      <td>6.606467</td>\n",
       "      <td>1.052636</td>\n",
       "      <td>1.948162</td>\n",
       "      <td>2.278092</td>\n",
       "      <td>0.644150</td>\n",
       "      <td>5.184624</td>\n",
       "    </tr>\n",
       "    <tr>\n",
       "      <th>3</th>\n",
       "      <td>3</td>\n",
       "      <td>Memphis</td>\n",
       "      <td>US</td>\n",
       "      <td>1346931</td>\n",
       "      <td>2.101073</td>\n",
       "      <td>0.564246</td>\n",
       "      <td>0.311820</td>\n",
       "      <td>1.276977</td>\n",
       "      <td>0.259850</td>\n",
       "      <td>5.226697</td>\n",
       "    </tr>\n",
       "    <tr>\n",
       "      <th>4</th>\n",
       "      <td>4</td>\n",
       "      <td>Mobile</td>\n",
       "      <td>US</td>\n",
       "      <td>414817</td>\n",
       "      <td>3.061591</td>\n",
       "      <td>0.674996</td>\n",
       "      <td>0.482140</td>\n",
       "      <td>1.518742</td>\n",
       "      <td>0.241070</td>\n",
       "      <td>6.412466</td>\n",
       "    </tr>\n",
       "  </tbody>\n",
       "</table>\n",
       "</div>"
      ],
      "text/plain": [
       "   Unnamed: 0         City Country  Population      Bars     Parks  Galleries  \\\n",
       "0           0    Fairbanks      US       34657  9.810428  1.154168   2.019794   \n",
       "1           1      Detroit      US     1747582  6.866631  1.253160   0.795385   \n",
       "2           2  New Orleans      US     1272995  6.606467  1.052636   1.948162   \n",
       "3           3      Memphis      US     1346931  2.101073  0.564246   0.311820   \n",
       "4           4       Mobile      US      414817  3.061591  0.674996   0.482140   \n",
       "\n",
       "       Gyms  Bookstores  Fast Food  \n",
       "0  3.173962    1.154168   9.521886  \n",
       "1  3.913979    0.881218  10.872165  \n",
       "2  2.278092    0.644150   5.184624  \n",
       "3  1.276977    0.259850   5.226697  \n",
       "4  1.518742    0.241070   6.412466  "
      ]
     },
     "execution_count": 2,
     "metadata": {},
     "output_type": "execute_result"
    }
   ],
   "source": [
    "#read files\n",
    "cities_file = \"C:/Users/sarah/Desktop/project_1/percap.csv\"\n",
    "cities_data = pd.read_csv(cities_file)\n",
    "cities_data.head()"
   ]
  },
  {
   "cell_type": "code",
   "execution_count": 3,
   "metadata": {},
   "outputs": [
    {
     "name": "stdout",
     "output_type": "stream",
     "text": [
      "The max is 20177990 and the minimum is 34657\n"
     ]
    }
   ],
   "source": [
    "# Figure out the minimum and maximum city size\n",
    "print(f\"The max is {cities_data['Population'].max()} and the minimum is {cities_data['Population'].min()}\")"
   ]
  },
  {
   "cell_type": "code",
   "execution_count": 11,
   "metadata": {},
   "outputs": [],
   "source": [
    "# Create bins for population size based on minimum and maximum\n",
    "bins = [30000, 150000, 300000, 1000000, 21000000]\n",
    "# Create labels for these bins\n",
    "bin_names = [\"Large Town\", \"City\", \"Large City\", \"Mega City\"]"
   ]
  },
  {
   "cell_type": "code",
   "execution_count": 5,
   "metadata": {},
   "outputs": [
    {
     "data": {
      "text/html": [
       "<div>\n",
       "<style scoped>\n",
       "    .dataframe tbody tr th:only-of-type {\n",
       "        vertical-align: middle;\n",
       "    }\n",
       "\n",
       "    .dataframe tbody tr th {\n",
       "        vertical-align: top;\n",
       "    }\n",
       "\n",
       "    .dataframe thead th {\n",
       "        text-align: right;\n",
       "    }\n",
       "</style>\n",
       "<table border=\"1\" class=\"dataframe\">\n",
       "  <thead>\n",
       "    <tr style=\"text-align: right;\">\n",
       "      <th></th>\n",
       "      <th>Unnamed: 0</th>\n",
       "      <th>City</th>\n",
       "      <th>Country</th>\n",
       "      <th>Population</th>\n",
       "      <th>Bars</th>\n",
       "      <th>Parks</th>\n",
       "      <th>Galleries</th>\n",
       "      <th>Gyms</th>\n",
       "      <th>Bookstores</th>\n",
       "      <th>Fast Food</th>\n",
       "      <th>City Type</th>\n",
       "    </tr>\n",
       "  </thead>\n",
       "  <tbody>\n",
       "    <tr>\n",
       "      <th>0</th>\n",
       "      <td>0</td>\n",
       "      <td>Fairbanks</td>\n",
       "      <td>US</td>\n",
       "      <td>34657</td>\n",
       "      <td>9.810428</td>\n",
       "      <td>1.154168</td>\n",
       "      <td>2.019794</td>\n",
       "      <td>3.173962</td>\n",
       "      <td>1.154168</td>\n",
       "      <td>9.521886</td>\n",
       "      <td>Large Town</td>\n",
       "    </tr>\n",
       "    <tr>\n",
       "      <th>1</th>\n",
       "      <td>1</td>\n",
       "      <td>Detroit</td>\n",
       "      <td>US</td>\n",
       "      <td>1747582</td>\n",
       "      <td>6.866631</td>\n",
       "      <td>1.253160</td>\n",
       "      <td>0.795385</td>\n",
       "      <td>3.913979</td>\n",
       "      <td>0.881218</td>\n",
       "      <td>10.872165</td>\n",
       "      <td>Mega City</td>\n",
       "    </tr>\n",
       "    <tr>\n",
       "      <th>2</th>\n",
       "      <td>2</td>\n",
       "      <td>New Orleans</td>\n",
       "      <td>US</td>\n",
       "      <td>1272995</td>\n",
       "      <td>6.606467</td>\n",
       "      <td>1.052636</td>\n",
       "      <td>1.948162</td>\n",
       "      <td>2.278092</td>\n",
       "      <td>0.644150</td>\n",
       "      <td>5.184624</td>\n",
       "      <td>Mega City</td>\n",
       "    </tr>\n",
       "    <tr>\n",
       "      <th>3</th>\n",
       "      <td>3</td>\n",
       "      <td>Memphis</td>\n",
       "      <td>US</td>\n",
       "      <td>1346931</td>\n",
       "      <td>2.101073</td>\n",
       "      <td>0.564246</td>\n",
       "      <td>0.311820</td>\n",
       "      <td>1.276977</td>\n",
       "      <td>0.259850</td>\n",
       "      <td>5.226697</td>\n",
       "      <td>Mega City</td>\n",
       "    </tr>\n",
       "    <tr>\n",
       "      <th>4</th>\n",
       "      <td>4</td>\n",
       "      <td>Mobile</td>\n",
       "      <td>US</td>\n",
       "      <td>414817</td>\n",
       "      <td>3.061591</td>\n",
       "      <td>0.674996</td>\n",
       "      <td>0.482140</td>\n",
       "      <td>1.518742</td>\n",
       "      <td>0.241070</td>\n",
       "      <td>6.412466</td>\n",
       "      <td>Large City</td>\n",
       "    </tr>\n",
       "  </tbody>\n",
       "</table>\n",
       "</div>"
      ],
      "text/plain": [
       "   Unnamed: 0         City Country  Population      Bars     Parks  Galleries  \\\n",
       "0           0    Fairbanks      US       34657  9.810428  1.154168   2.019794   \n",
       "1           1      Detroit      US     1747582  6.866631  1.253160   0.795385   \n",
       "2           2  New Orleans      US     1272995  6.606467  1.052636   1.948162   \n",
       "3           3      Memphis      US     1346931  2.101073  0.564246   0.311820   \n",
       "4           4       Mobile      US      414817  3.061591  0.674996   0.482140   \n",
       "\n",
       "       Gyms  Bookstores  Fast Food   City Type  \n",
       "0  3.173962    1.154168   9.521886  Large Town  \n",
       "1  3.913979    0.881218  10.872165   Mega City  \n",
       "2  2.278092    0.644150   5.184624   Mega City  \n",
       "3  1.276977    0.259850   5.226697   Mega City  \n",
       "4  1.518742    0.241070   6.412466  Large City  "
      ]
     },
     "execution_count": 5,
     "metadata": {},
     "output_type": "execute_result"
    }
   ],
   "source": [
    "# Slice the data and place it into bins\n",
    "# Place the data series into a new column inside of the DataFrame\n",
    "cities_data[\"City Type\"] = pd.cut(cities_data[\"Population\"], bins, labels=bin_names)\n",
    "cities_data.head()"
   ]
  },
  {
   "cell_type": "code",
   "execution_count": 6,
   "metadata": {},
   "outputs": [
    {
     "name": "stdout",
     "output_type": "stream",
     "text": [
      "City Type\n",
      "Large Town    81\n",
      "City          80\n",
      "Large City    81\n",
      "Mega City     48\n",
      "Name: City, dtype: int64\n"
     ]
    }
   ],
   "source": [
    "# Create a GroupBy object based upon bins\n",
    "binned_cities = cities_data.groupby(\"City Type\")\n",
    "\n",
    "# Find how many rows fall into each bin\n",
    "print(binned_cities[\"City\"].count())"
   ]
  },
  {
   "cell_type": "code",
   "execution_count": 7,
   "metadata": {},
   "outputs": [],
   "source": [
    "# Extract individual groups\n",
    "group1 = cities_data[cities_data[\"City Type\"] == \"Large Town\"][\"Bars\"]\n",
    "group2 = cities_data[cities_data[\"City Type\"] == \"City\"][\"Bars\"]\n",
    "group3 = cities_data[cities_data[\"City Type\"] == \"Large City\"][\"Bars\"]\n",
    "group4 = cities_data[cities_data[\"City Type\"] == \"Mega City\"][\"Bars\"]"
   ]
  },
  {
   "cell_type": "code",
   "execution_count": 9,
   "metadata": {},
   "outputs": [
    {
     "data": {
      "text/plain": [
       "F_onewayResult(statistic=3.788592049598102, pvalue=0.010865609131561453)"
      ]
     },
     "execution_count": 9,
     "metadata": {},
     "output_type": "execute_result"
    }
   ],
   "source": [
    "#run statistical anova to determine whether the realative size of a city impacts the number of bars per capita\n",
    "stats.f_oneway(group1, group2, group3, group4)"
   ]
  },
  {
   "cell_type": "markdown",
   "metadata": {},
   "source": [
    "With a p-value of less than 0.05, our hypothesis is correct. The larger a city, the more bars per capita."
   ]
  }
 ],
 "metadata": {
  "kernelspec": {
   "display_name": "Python 3",
   "language": "python",
   "name": "python3"
  },
  "language_info": {
   "codemirror_mode": {
    "name": "ipython",
    "version": 3
   },
   "file_extension": ".py",
   "mimetype": "text/x-python",
   "name": "python",
   "nbconvert_exporter": "python",
   "pygments_lexer": "ipython3",
   "version": "3.7.0"
  }
 },
 "nbformat": 4,
 "nbformat_minor": 2
}
